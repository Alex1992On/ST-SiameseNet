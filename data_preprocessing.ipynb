{
 "cells": [
  {
   "cell_type": "code",
   "execution_count": 1,
   "metadata": {},
   "outputs": [],
   "source": [
    "from utils import *\n",
    "import pickle"
   ]
  },
  {
   "cell_type": "code",
   "execution_count": 2,
   "metadata": {},
   "outputs": [],
   "source": [
    "with_speed = True\n",
    "with_profile = True\n",
    "with_temporal = False\n",
    "nn_sim_flag = False\n",
    "input_type = ''\n",
    "    \n",
    "\n",
    "num_train_plates = 500\n",
    "num_days = 5\n",
    "\n",
    "# load data\n",
    "path = '/Users/huiminren/Dropbox/Research/Driver_Identification/code/data_preprocessing/data/data_profile/'\n",
    "\n",
    "all_plates = load_data(path,'plates_2197.pkl')\n",
    "# all_plates.remove('B8VW95') # profile doesn't have this plate\n",
    "# train_plates_pool = all_plates[:2000]\n",
    "# train_plates = train_plates_pool[:num_train_plates]\n",
    "# test_plates = all_plates[2000:] # 197 plates"
   ]
  },
  {
   "cell_type": "code",
   "execution_count": 3,
   "metadata": {},
   "outputs": [],
   "source": [
    "key_dict = {}\n",
    "new_plates = []\n",
    "for i in range(len(all_plates)):\n",
    "    key_dict[all_plates[i]]='d'+str(i)\n",
    "    new_plates.append('d'+str(i))\n",
    "    \n",
    "pickle.dump(new_plates, open('./dataset/plates.pkl','wb'))"
   ]
  },
  {
   "cell_type": "code",
   "execution_count": 4,
   "metadata": {},
   "outputs": [
    {
     "name": "stdout",
     "output_type": "stream",
     "text": [
      "2197\n"
     ]
    },
    {
     "data": {
      "text/plain": [
       "'d1329'"
      ]
     },
     "execution_count": 4,
     "metadata": {},
     "output_type": "execute_result"
    }
   ],
   "source": [
    "print(len(key_dict))\n",
    "key_dict['B8VW95']"
   ]
  },
  {
   "cell_type": "code",
   "execution_count": 5,
   "metadata": {},
   "outputs": [],
   "source": [
    "def exchange_key(data,key_dict,save_name):\n",
    "    new_data = {}\n",
    "    for k in data.keys():\n",
    "        try:\n",
    "            new_data[key_dict[k]] = data[k]\n",
    "        except Exception as e: \n",
    "            print(e)\n",
    "    pickle.dump(new_data, open('./dataset/'+save_name+'.pkl','wb'))\n",
    "    print(len(new_data))"
   ]
  },
  {
   "cell_type": "code",
   "execution_count": 6,
   "metadata": {
    "scrolled": true
   },
   "outputs": [
    {
     "name": "stdout",
     "output_type": "stream",
     "text": [
      "'B0U4Y6'\n",
      "'B0V8P7'\n",
      "'B0V8R5'\n",
      "'B0VW79'\n",
      "'B1U3G1'\n",
      "'B1U7G7'\n",
      "'B1V0R7'\n",
      "'B1WT60'\n",
      "'B2Q4B7'\n",
      "'B2VW46'\n",
      "'B3B48X'\n",
      "'B3BK27'\n",
      "'B3NW15'\n",
      "'B4D6V1'\n",
      "'B4Q2D0'\n",
      "'B4U1Y1'\n",
      "'B4U9Y0'\n",
      "'B4V7Q0'\n",
      "'B5NC86'\n",
      "'B5NX86'\n",
      "'B5U1Y9'\n",
      "'B5V5X7'\n",
      "'B6B71A'\n",
      "'B6V7P3'\n",
      "'B7B98A'\n",
      "'B7UE87'\n",
      "'B7VV48'\n",
      "'B8B48X'\n",
      "'B8V3M1'\n",
      "'BA0464'\n",
      "'BP40D7'\n",
      "'BR40W5'\n",
      "'BT49N7'\n",
      "'BW4Y31'\n",
      "'BX0Y32'\n",
      "'BX3Y06'\n",
      "2196\n"
     ]
    }
   ],
   "source": [
    "profile_data = load_data(path,'profile_features_11dim.pkl')\n",
    "exchange_key(profile_data,key_dict,'profile_features')\n"
   ]
  },
  {
   "cell_type": "code",
   "execution_count": 7,
   "metadata": {},
   "outputs": [
    {
     "name": "stdout",
     "output_type": "stream",
     "text": [
      "2197\n"
     ]
    }
   ],
   "source": [
    "raw_trajs_speed = load_data(path,'mdp_trajs_allplates_201607_0415_1day2trajs_without_features_speed2.pkl')\n",
    "exchange_key(raw_trajs_speed,key_dict,'trajs_with_speed')\n"
   ]
  },
  {
   "cell_type": "code",
   "execution_count": 8,
   "metadata": {
    "scrolled": true
   },
   "outputs": [
    {
     "name": "stdout",
     "output_type": "stream",
     "text": [
      "'B0U4Y6'\n",
      "'B0V8P7'\n",
      "'B0V8R5'\n",
      "'B0VW79'\n",
      "'B1U3G1'\n",
      "'B1U7G7'\n",
      "'B1V0R7'\n",
      "'B1WT60'\n",
      "'B2Q4B7'\n",
      "'B2VW46'\n",
      "'B3B48X'\n",
      "'B3BK27'\n",
      "'B3NW15'\n",
      "'B4D6V1'\n",
      "'B4Q2D0'\n",
      "'B4U1Y1'\n",
      "'B4U9Y0'\n",
      "'B4V7Q0'\n",
      "'B5NC86'\n",
      "'B5NX86'\n",
      "'B5U1Y9'\n",
      "'B5V5X7'\n",
      "'B6B71A'\n",
      "'B6V7P3'\n",
      "'B7B98A'\n",
      "'B7UE87'\n",
      "'B7VV48'\n",
      "'B8B48X'\n",
      "'B8V3M1'\n",
      "'BA0464'\n",
      "'BP40D7'\n",
      "'BR40W5'\n",
      "'BT49N7'\n",
      "'BW4Y31'\n",
      "'BX0Y32'\n",
      "'BX3Y06'\n",
      "2197\n"
     ]
    }
   ],
   "source": [
    "raw_trajs_no_speed = load_data(path,'mdp_trajs_allplates_201607_0415_1day2trajs_without_features.pkl')\n",
    "exchange_key(raw_trajs_no_speed,key_dict,'trajs_without_speed')\n"
   ]
  }
 ],
 "metadata": {
  "kernelspec": {
   "display_name": "Python 3",
   "language": "python",
   "name": "python3"
  },
  "language_info": {
   "codemirror_mode": {
    "name": "ipython",
    "version": 3
   },
   "file_extension": ".py",
   "mimetype": "text/x-python",
   "name": "python",
   "nbconvert_exporter": "python",
   "pygments_lexer": "ipython3",
   "version": "3.6.7"
  }
 },
 "nbformat": 4,
 "nbformat_minor": 2
}
