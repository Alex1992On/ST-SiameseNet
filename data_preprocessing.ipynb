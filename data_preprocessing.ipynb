{
 "cells": [
  {
   "cell_type": "code",
   "execution_count": 1,
   "metadata": {},
   "outputs": [],
   "source": [
    "from utils import *\n",
    "import pickle"
   ]
  },
  {
   "cell_type": "code",
   "execution_count": 2,
   "metadata": {},
   "outputs": [],
   "source": [
    "with_speed = True\n",
    "with_profile = True\n",
    "with_temporal = False\n",
    "nn_sim_flag = False\n",
    "input_type = ''\n",
    "    \n",
    "\n",
    "num_train_plates = 500\n",
    "num_days = 5\n",
    "\n",
    "# load data\n",
    "path = '/Users/huiminren/Dropbox/Research/Driver_Identification/code/data_preprocessing/data/data_profile/'\n",
    "\n",
    "all_plates = load_data(path,'plates_2197.pkl')\n",
    "# all_plates.remove('B8VW95') # profile doesn't have this plate\n",
    "# train_plates_pool = all_plates[:2000]\n",
    "# train_plates = train_plates_pool[:num_train_plates]\n",
    "# test_plates = all_plates[2000:] # 197 plates"
   ]
  },
  {
   "cell_type": "code",
   "execution_count": 3,
   "metadata": {},
   "outputs": [],
   "source": [
    "key_dict = {}\n",
    "new_plates = []\n",
    "for i in range(len(all_plates)):\n",
    "    key_dict[all_plates[i]]='d'+str(i)\n",
    "    new_plates.append('d'+str(i))\n",
    "    \n",
    "pickle.dump(new_plates, open('./dataset/plates.pkl','wb'))"
   ]
  },
  {
   "cell_type": "code",
   "execution_count": 4,
   "metadata": {},
   "outputs": [
    {
     "name": "stdout",
     "output_type": "stream",
     "text": [
      "2197\n"
     ]
    },
    {
     "data": {
      "text/plain": [
       "'d1329'"
      ]
     },
     "execution_count": 4,
     "metadata": {},
     "output_type": "execute_result"
    }
   ],
   "source": [
    "print(len(key_dict))\n",
    "key_dict['B8VW95']"
   ]
  },
  {
   "cell_type": "code",
   "execution_count": 5,
   "metadata": {},
   "outputs": [],
   "source": [
    "def exchange_key(data,key_dict,save_name):\n",
    "    new_data = {}\n",
    "    for k in key_dict.keys():\n",
    "        try:\n",
    "            new_data[key_dict[k]] = data[k]\n",
    "        except Exception as e: \n",
    "            print(e)\n",
    "    pickle.dump(new_data, open('./dataset/'+save_name+'.pkl','wb'))\n",
    "    print(len(new_data))"
   ]
  },
  {
   "cell_type": "code",
   "execution_count": 16,
   "metadata": {},
   "outputs": [
    {
     "name": "stdout",
     "output_type": "stream",
     "text": [
      "'B8VW95'\n",
      "2196\n"
     ]
    }
   ],
   "source": [
    "profile_data = load_data(path,'profile_features_11dim.pkl')\n",
    "exchange_key(profile_data,key_dict,'profile_features')\n"
   ]
  },
  {
   "cell_type": "code",
   "execution_count": 17,
   "metadata": {},
   "outputs": [
    {
     "name": "stdout",
     "output_type": "stream",
     "text": [
      "2197\n"
     ]
    }
   ],
   "source": [
    "raw_trajs_speed = load_data(path,'mdp_trajs_allplates_201607_0415_1day2trajs_without_features_speed2.pkl')\n",
    "exchange_key(raw_trajs_speed,key_dict,'trajs_with_speed')\n"
   ]
  },
  {
   "cell_type": "code",
   "execution_count": 18,
   "metadata": {},
   "outputs": [
    {
     "name": "stdout",
     "output_type": "stream",
     "text": [
      "2197\n"
     ]
    }
   ],
   "source": [
    "raw_trajs_no_speed = load_data(path,'mdp_trajs_allplates_201607_0415_1day2trajs_without_features.pkl')\n",
    "exchange_key(raw_trajs_no_speed,key_dict,'trajs_without_speed')\n"
   ]
  },
  {
   "cell_type": "code",
   "execution_count": 14,
   "metadata": {},
   "outputs": [],
   "source": [
    "'''\n",
    "prepare 500 sample plates\n",
    "'''\n",
    "key_dict2 = {}\n",
    "for i in range(500):\n",
    "    key_dict2[all_plates[i]]='d'+str(i)\n",
    "for i in range(2000,2197):\n",
    "    key_dict2[all_plates[i]]='d'+str(i)\n"
   ]
  },
  {
   "cell_type": "code",
   "execution_count": 15,
   "metadata": {},
   "outputs": [
    {
     "name": "stdout",
     "output_type": "stream",
     "text": [
      "697\n"
     ]
    }
   ],
   "source": [
    "profile_data = load_data(path,'profile_features_11dim.pkl')\n",
    "exchange_key(profile_data,key_dict2,'profile_features500')\n"
   ]
  },
  {
   "cell_type": "code",
   "execution_count": 16,
   "metadata": {},
   "outputs": [
    {
     "name": "stdout",
     "output_type": "stream",
     "text": [
      "697\n"
     ]
    }
   ],
   "source": [
    "raw_trajs_speed = load_data(path,'mdp_trajs_allplates_201607_0415_1day2trajs_without_features_speed2.pkl')\n",
    "exchange_key(raw_trajs_speed,key_dict2,'trajs_with_speed500')\n"
   ]
  },
  {
   "cell_type": "code",
   "execution_count": 17,
   "metadata": {},
   "outputs": [
    {
     "name": "stdout",
     "output_type": "stream",
     "text": [
      "697\n"
     ]
    }
   ],
   "source": [
    "raw_trajs_no_speed = load_data(path,'mdp_trajs_allplates_201607_0415_1day2trajs_without_features.pkl')\n",
    "exchange_key(raw_trajs_no_speed,key_dict2,'trajs_without_speed500')\n"
   ]
  }
 ],
 "metadata": {
  "kernelspec": {
   "display_name": "Python 3",
   "language": "python",
   "name": "python3"
  },
  "language_info": {
   "codemirror_mode": {
    "name": "ipython",
    "version": 3
   },
   "file_extension": ".py",
   "mimetype": "text/x-python",
   "name": "python",
   "nbconvert_exporter": "python",
   "pygments_lexer": "ipython3",
   "version": "3.6.7"
  }
 },
 "nbformat": 4,
 "nbformat_minor": 2
}
